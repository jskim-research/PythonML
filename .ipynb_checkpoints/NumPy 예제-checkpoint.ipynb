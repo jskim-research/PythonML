{
 "cells": [
  {
   "cell_type": "code",
   "execution_count": 5,
   "id": "f1e8ab6f",
   "metadata": {},
   "outputs": [],
   "source": [
    "import numpy as np"
   ]
  },
  {
   "cell_type": "code",
   "execution_count": 18,
   "id": "002a30b5",
   "metadata": {},
   "outputs": [],
   "source": [
    "a = np.array([[1.1, 2.2, 3],\n",
    "              [4, 5, 6]])"
   ]
  },
  {
   "cell_type": "code",
   "execution_count": 21,
   "id": "5f910b11",
   "metadata": {},
   "outputs": [
    {
     "name": "stdout",
     "output_type": "stream",
     "text": [
      "value\n",
      "[[1.1 2.2 3. ]\n",
      " [4.  5.  6. ]]\n",
      "type 변환\n",
      "[[1 2 3]\n",
      " [4 5 6]]\n",
      "shape (2, 3)\n",
      "ndim 2\n",
      "type float64\n"
     ]
    }
   ],
   "source": [
    "# array 정보\n",
    "print(\"value\")\n",
    "print(a)\n",
    "print(\"type 변환\")\n",
    "print(a.astype(np.int32))\n",
    "print(\"shape\", a.shape)\n",
    "print(\"ndim\", a.ndim)\n",
    "print(\"type\", a.dtype)\n",
    "# int, float, bool, complex, object => bit 수를 낮춰 대용량 데이터를 다룰 때 이점을 얻을 수 있음"
   ]
  },
  {
   "cell_type": "code",
   "execution_count": 24,
   "id": "1f32e4ab",
   "metadata": {},
   "outputs": [
    {
     "name": "stdout",
     "output_type": "stream",
     "text": [
      "origin (2, 3)\n",
      "axis 0 sum (3,)\n",
      "axis 1 sum (2,)\n"
     ]
    }
   ],
   "source": [
    "# axis 개념\n",
    "print(\"origin\", a.shape)\n",
    "print(\"axis 0 sum\", np.sum(a, axis = 0).shape)\n",
    "print(\"axis 1 sum\", np.sum(a, axis = 1).shape)"
   ]
  },
  {
   "cell_type": "code",
   "execution_count": 37,
   "id": "10045ac7",
   "metadata": {},
   "outputs": [
    {
     "name": "stdout",
     "output_type": "stream",
     "text": [
      "[10 11 12 13 14 15 16 17 18 19]\n",
      "[[0. 0. 0.]\n",
      " [0. 0. 0.]]\n",
      "[[1. 1.]\n",
      " [1. 1.]]\n",
      "[1. 1. 1. 1.]\n"
     ]
    }
   ],
   "source": [
    "# ndarray 생성 및 변환\n",
    "\n",
    "print(np.arange(10, 20))\n",
    "print(np.zeros((2, 3)))\n",
    "print(np.ones((2, 2)))\n",
    "print(np.ones((2,2)).reshape(-1))"
   ]
  },
  {
   "cell_type": "code",
   "execution_count": 53,
   "id": "d910e38b",
   "metadata": {},
   "outputs": [
    {
     "name": "stdout",
     "output_type": "stream",
     "text": [
      "[ 0  3  6  9 12]\n",
      "[0 3 6]\n",
      "[ 6 12]\n",
      "[[1 2]\n",
      " [7 8]]\n",
      "[6 7 8 9]\n"
     ]
    }
   ],
   "source": [
    "# 인덱싱\n",
    "\n",
    "array1d = np.arange(5) * 3\n",
    "print(array1d)\n",
    "\n",
    "print(array1d[0:3]) # index 0~2 값들 가져옴\n",
    "print(array1d[[2, 4]]) # index set에 해당하는 값들 가져옴\n",
    "\n",
    "array2d = np.array([[1,2,3],\n",
    "                    [4,5,6],\n",
    "                    [7,8,9]])\n",
    "\n",
    "print(array2d[[0, 2], :2]) # 0, 2번 행에서 0, 1 열을 가져온다.\n",
    "print(array2d[array2d > 5]) # boolean indexing => True인 index만 기억 후 fancy indexing으로 가져옴"
   ]
  },
  {
   "cell_type": "code",
   "execution_count": 61,
   "id": "6931db77",
   "metadata": {},
   "outputs": [
    {
     "name": "stdout",
     "output_type": "stream",
     "text": [
      "[ 1  2  3  3  5  6  6  8 10]\n",
      "[ 1  2  3  3  5  6  6  8 10]\n",
      "[10  8  6  6  5  3  3  2  1]\n",
      "[[1 3 2 6]\n",
      " [8 5 3 6]]\n",
      "[[1 3 5 6]\n",
      " [2 3 6 8]]\n",
      "[[0 2 1 3]\n",
      " [2 1 3 0]]\n"
     ]
    }
   ],
   "source": [
    "# 배열 정렬\n",
    "\n",
    "a = np.array([1, 5, 3, 6, 8, 3, 2, 6, 10])\n",
    "b = np.array([[1, 5, 3, 6], [8, 3, 2, 6]])\n",
    "\n",
    "print(np.sort(a))\n",
    "\n",
    "a.sort() # in-place\n",
    "print(a)\n",
    "print(a[::-1]) # 내림차순 (역순)\n",
    "\n",
    "print(np.sort(b, axis = 0))\n",
    "print(np.sort(b, axis = 1))\n",
    "\n",
    "print(np.argsort(b)) # 값으로 정렬 후, 값의 원래 index들을 뽑아냄\n",
    "\n",
    "# name_array = {\"John\", \"Mike\", \"Kate\"}\n",
    "# score_array = {10, 20, 15}\n",
    "# John = 10, Mike = 20, Kate = 15인데 index를 바탕으로 연관이 있으므로 argsort로 하면 편함"
   ]
  },
  {
   "cell_type": "code",
   "execution_count": 63,
   "id": "4753a3f5",
   "metadata": {},
   "outputs": [
    {
     "name": "stdout",
     "output_type": "stream",
     "text": [
      "[[ 5]\n",
      " [11]]\n",
      "[[1 3]\n",
      " [2 4]]\n"
     ]
    }
   ],
   "source": [
    "# 선형대수 연산\n",
    "\n",
    "a = np.array([[1, 2], [3, 4]])\n",
    "b = np.array([[1], [2]])\n",
    "print(np.dot(a,b))\n",
    "print(np.transpose(a))"
   ]
  },
  {
   "cell_type": "code",
   "execution_count": null,
   "id": "e7cc2400",
   "metadata": {},
   "outputs": [],
   "source": []
  }
 ],
 "metadata": {
  "kernelspec": {
   "display_name": "Python 3",
   "language": "python",
   "name": "python3"
  },
  "language_info": {
   "codemirror_mode": {
    "name": "ipython",
    "version": 3
   },
   "file_extension": ".py",
   "mimetype": "text/x-python",
   "name": "python",
   "nbconvert_exporter": "python",
   "pygments_lexer": "ipython3",
   "version": "3.8.8"
  }
 },
 "nbformat": 4,
 "nbformat_minor": 5
}
